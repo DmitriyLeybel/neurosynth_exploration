{
 "cells": [
  {
   "cell_type": "markdown",
   "metadata": {},
   "source": [
    "# Exploring neurosynth data"
   ]
  },
  {
   "cell_type": "markdown",
   "metadata": {},
   "source": [
    "Database available at: https://github.com/neurosynth/neurosynth-data/tree/826d52c975b902d59d3434c46bda41986495ca99/archive\n",
    "Using v0.6."
   ]
  },
  {
   "cell_type": "code",
   "execution_count": 11,
   "metadata": {
    "collapsed": false
   },
   "outputs": [],
   "source": [
    "import tarfile, os, sys\n",
    "import pandas as pd\n",
    "\n",
    "with tarfile.open('data_0.6.tar.gz') as f:\n",
    "    files = {member.name: f.extractfile(member) for member in f.getmembers() if './.' not in member.name}\n",
    "    for fi in files:\n",
    "        files[fi] = pd.read_table(files[fi])"
   ]
  },
  {
   "cell_type": "markdown",
   "metadata": {},
   "source": [
    "Finding values of the column headers"
   ]
  },
  {
   "cell_type": "code",
   "execution_count": 12,
   "metadata": {
    "collapsed": false
   },
   "outputs": [
    {
     "name": "stdout",
     "output_type": "stream",
     "text": [
      "database.txt (413429, 13): Index(['id', 'doi', 'x', 'y', 'z', 'space', 'peak_id', 'table_id', 'table_num',\n",
      "       'title', 'authors', 'year', 'journal'],\n",
      "      dtype='object')\n",
      "features.txt (11406, 3170): Index(['pmid', '001', '01', '05', '10', '10 healthy', '100', '11', '12',\n",
      "       '12 healthy',\n",
      "       ...\n",
      "       'year old', 'years', 'yield', 'yielded', 'young', 'young adults',\n",
      "       'young healthy', 'younger', 'younger adults', 'zone'],\n",
      "      dtype='object', length=3170)\n"
     ]
    }
   ],
   "source": [
    "for f in files: print('{key} {shape}: {header}'.format(key=f, header=files[f].columns, shape=files[f].shape))"
   ]
  },
  {
   "cell_type": "markdown",
   "metadata": {},
   "source": [
    "Examine the first 5 rows of each dataframe to get a feel for the data"
   ]
  },
  {
   "cell_type": "code",
   "execution_count": 19,
   "metadata": {
    "collapsed": false
   },
   "outputs": [
    {
     "name": "stdout",
     "output_type": "stream",
     "text": [
      "--|||database.txt|||--:\n",
      "         id  doi     x     y     z space  peak_id  table_id table_num  \\\n",
      "0  9065511  NaN  38.0 -48.0  49.0   MNI   215927     11416        1.   \n",
      "1  9065511  NaN  -4.0 -70.0  50.0   MNI   215928     11416        1.   \n",
      "2  9065511  NaN -34.0 -52.0  60.0   MNI   215929     11416        1.   \n",
      "3  9065511  NaN -23.0  15.0  67.0   MNI   215930     11416        1.   \n",
      "4  9065511  NaN -23.0 -20.0  68.0   MNI   215931     11416        1.   \n",
      "\n",
      "                                               title  \\\n",
      "0  Environmental knowledge is subserved by separa...   \n",
      "1  Environmental knowledge is subserved by separa...   \n",
      "2  Environmental knowledge is subserved by separa...   \n",
      "3  Environmental knowledge is subserved by separa...   \n",
      "4  Environmental knowledge is subserved by separa...   \n",
      "\n",
      "                    authors  year  \\\n",
      "0  Aguirre GK, D'Esposito M  1997   \n",
      "1  Aguirre GK, D'Esposito M  1997   \n",
      "2  Aguirre GK, D'Esposito M  1997   \n",
      "3  Aguirre GK, D'Esposito M  1997   \n",
      "4  Aguirre GK, D'Esposito M  1997   \n",
      "\n",
      "                                             journal  \n",
      "0  The Journal of neuroscience : the official jou...  \n",
      "1  The Journal of neuroscience : the official jou...  \n",
      "2  The Journal of neuroscience : the official jou...  \n",
      "3  The Journal of neuroscience : the official jou...  \n",
      "4  The Journal of neuroscience : the official jou...   \n",
      " ______________________________________________________________________________\n",
      "--|||features.txt|||--:\n",
      "       pmid  001   01   05   10  10 healthy  100   11   12  12 healthy  ...   \\\n",
      "0  9065511  0.0  0.0  0.0  0.0         0.0  0.0  0.0  0.0         0.0  ...    \n",
      "1  9084599  0.0  0.0  0.0  0.0         0.0  0.0  0.0  0.0         0.0  ...    \n",
      "2  9114263  0.0  0.0  0.0  0.0         0.0  0.0  0.0  0.0         0.0  ...    \n",
      "3  9185551  0.0  0.0  0.0  0.0         0.0  0.0  0.0  0.0         0.0  ...    \n",
      "4  9256495  0.0  0.0  0.0  0.0         0.0  0.0  0.0  0.0         0.0  ...    \n",
      "\n",
      "   year old  years     yield  yielded  young  young adults  young healthy  \\\n",
      "0       0.0    0.0  0.000000      0.0    0.0           0.0            0.0   \n",
      "1       0.0    0.0  0.000000      0.0    0.0           0.0            0.0   \n",
      "2       0.0    0.0  0.000000      0.0    0.0           0.0            0.0   \n",
      "3       0.0    0.0  0.000000      0.0    0.0           0.0            0.0   \n",
      "4       0.0    0.0  0.111525      0.0    0.0           0.0            0.0   \n",
      "\n",
      "   younger  younger adults  zone  \n",
      "0      0.0             0.0   0.0  \n",
      "1      0.0             0.0   0.0  \n",
      "2      0.0             0.0   0.0  \n",
      "3      0.0             0.0   0.0  \n",
      "4      0.0             0.0   0.0  \n",
      "\n",
      "[5 rows x 3170 columns] \n",
      " ______________________________________________________________________________\n"
     ]
    }
   ],
   "source": [
    "for f in files: print('--|||{f}|||--:\\n {frame} \\n {sep}'.format(f=f, frame=files[f][:5], sep=str('_'*78)))"
   ]
  },
  {
   "cell_type": "code",
   "execution_count": 34,
   "metadata": {
    "collapsed": false
   },
   "outputs": [
    {
     "data": {
      "text/plain": [
       "Index(['pmid', '001', '01', '05', '10', '10 healthy', '100', '11', '12',\n",
       "       '12 healthy',\n",
       "       ...\n",
       "       'year old', 'years', 'yield', 'yielded', 'young', 'young adults',\n",
       "       'young healthy', 'younger', 'younger adults', 'zone'],\n",
       "      dtype='object', length=3170)"
      ]
     },
     "execution_count": 34,
     "metadata": {},
     "output_type": "execute_result"
    }
   ],
   "source": []
  },
  {
   "cell_type": "markdown",
   "metadata": {},
   "source": [
    "### Analysis\n",
    "1) features.txt\n",
    "* The first column of features.txt is the ID needed to map the gathered linguistic data of the article to the fMRI data in database.txt.\n",
    "* The remaining columns indicated the tf-idf values of the words in the article.\n",
    "\n",
    "2) database.txt\n",
    "* The id is necessary to link to features.txt\n",
    " (pmid = id)\n",
    "* Other identification features like authors, year, journal, title all serve to identify the article from which the fMRI data was taken\n",
    "* x, y, z are the stereotactic coordinates of the fMRI peak, which is identified as peak_id\n"
   ]
  },
  {
   "cell_type": "markdown",
   "metadata": {},
   "source": [
    "##### Moving on\n",
    "Explore a few more of the database's pmid values to see approximately how many peaks each article yields.\n",
    "\n",
    "Simple to do: Divide the # of rows of database and features."
   ]
  },
  {
   "cell_type": "code",
   "execution_count": 22,
   "metadata": {
    "collapsed": false
   },
   "outputs": [
    {
     "data": {
      "text/plain": [
       "36.24662458355252"
      ]
     },
     "execution_count": 22,
     "metadata": {},
     "output_type": "execute_result"
    }
   ],
   "source": [
    "files['database.txt'].shape[0]/files['features.txt'].shape[0]"
   ]
  },
  {
   "cell_type": "code",
   "execution_count": 35,
   "metadata": {
    "collapsed": false
   },
   "outputs": [
    {
     "data": {
      "text/plain": [
       "10"
      ]
     },
     "execution_count": 35,
     "metadata": {},
     "output_type": "execute_result"
    }
   ],
   "source": [
    "dat = files['database.txt']\n",
    "features = files['features.txt']\n",
    "dat[dat['id']==9065511].shape[0]"
   ]
  },
  {
   "cell_type": "markdown",
   "metadata": {},
   "source": [
    "So, roughly 36 peaks per study, with the first study having 10 peaks."
   ]
  },
  {
   "cell_type": "code",
   "execution_count": 36,
   "metadata": {
    "collapsed": false
   },
   "outputs": [
    {
     "data": {
      "text/html": [
       "<div>\n",
       "<table border=\"1\" class=\"dataframe\">\n",
       "  <thead>\n",
       "    <tr style=\"text-align: right;\">\n",
       "      <th></th>\n",
       "      <th>id</th>\n",
       "      <th>doi</th>\n",
       "      <th>x</th>\n",
       "      <th>y</th>\n",
       "      <th>z</th>\n",
       "      <th>space</th>\n",
       "      <th>peak_id</th>\n",
       "      <th>table_id</th>\n",
       "      <th>table_num</th>\n",
       "      <th>title</th>\n",
       "      <th>authors</th>\n",
       "      <th>year</th>\n",
       "      <th>journal</th>\n",
       "    </tr>\n",
       "  </thead>\n",
       "  <tbody>\n",
       "    <tr>\n",
       "      <th>0</th>\n",
       "      <td>9065511</td>\n",
       "      <td>NaN</td>\n",
       "      <td>38.0</td>\n",
       "      <td>-48.0</td>\n",
       "      <td>49.0</td>\n",
       "      <td>MNI</td>\n",
       "      <td>215927</td>\n",
       "      <td>11416</td>\n",
       "      <td>1.</td>\n",
       "      <td>Environmental knowledge is subserved by separa...</td>\n",
       "      <td>Aguirre GK, D'Esposito M</td>\n",
       "      <td>1997</td>\n",
       "      <td>The Journal of neuroscience : the official jou...</td>\n",
       "    </tr>\n",
       "    <tr>\n",
       "      <th>1</th>\n",
       "      <td>9065511</td>\n",
       "      <td>NaN</td>\n",
       "      <td>-4.0</td>\n",
       "      <td>-70.0</td>\n",
       "      <td>50.0</td>\n",
       "      <td>MNI</td>\n",
       "      <td>215928</td>\n",
       "      <td>11416</td>\n",
       "      <td>1.</td>\n",
       "      <td>Environmental knowledge is subserved by separa...</td>\n",
       "      <td>Aguirre GK, D'Esposito M</td>\n",
       "      <td>1997</td>\n",
       "      <td>The Journal of neuroscience : the official jou...</td>\n",
       "    </tr>\n",
       "    <tr>\n",
       "      <th>2</th>\n",
       "      <td>9065511</td>\n",
       "      <td>NaN</td>\n",
       "      <td>-34.0</td>\n",
       "      <td>-52.0</td>\n",
       "      <td>60.0</td>\n",
       "      <td>MNI</td>\n",
       "      <td>215929</td>\n",
       "      <td>11416</td>\n",
       "      <td>1.</td>\n",
       "      <td>Environmental knowledge is subserved by separa...</td>\n",
       "      <td>Aguirre GK, D'Esposito M</td>\n",
       "      <td>1997</td>\n",
       "      <td>The Journal of neuroscience : the official jou...</td>\n",
       "    </tr>\n",
       "    <tr>\n",
       "      <th>3</th>\n",
       "      <td>9065511</td>\n",
       "      <td>NaN</td>\n",
       "      <td>-23.0</td>\n",
       "      <td>15.0</td>\n",
       "      <td>67.0</td>\n",
       "      <td>MNI</td>\n",
       "      <td>215930</td>\n",
       "      <td>11416</td>\n",
       "      <td>1.</td>\n",
       "      <td>Environmental knowledge is subserved by separa...</td>\n",
       "      <td>Aguirre GK, D'Esposito M</td>\n",
       "      <td>1997</td>\n",
       "      <td>The Journal of neuroscience : the official jou...</td>\n",
       "    </tr>\n",
       "    <tr>\n",
       "      <th>4</th>\n",
       "      <td>9065511</td>\n",
       "      <td>NaN</td>\n",
       "      <td>-23.0</td>\n",
       "      <td>-20.0</td>\n",
       "      <td>68.0</td>\n",
       "      <td>MNI</td>\n",
       "      <td>215931</td>\n",
       "      <td>11416</td>\n",
       "      <td>1.</td>\n",
       "      <td>Environmental knowledge is subserved by separa...</td>\n",
       "      <td>Aguirre GK, D'Esposito M</td>\n",
       "      <td>1997</td>\n",
       "      <td>The Journal of neuroscience : the official jou...</td>\n",
       "    </tr>\n",
       "    <tr>\n",
       "      <th>5</th>\n",
       "      <td>9065511</td>\n",
       "      <td>NaN</td>\n",
       "      <td>42.0</td>\n",
       "      <td>-47.0</td>\n",
       "      <td>-19.0</td>\n",
       "      <td>MNI</td>\n",
       "      <td>215932</td>\n",
       "      <td>11416</td>\n",
       "      <td>1.</td>\n",
       "      <td>Environmental knowledge is subserved by separa...</td>\n",
       "      <td>Aguirre GK, D'Esposito M</td>\n",
       "      <td>1997</td>\n",
       "      <td>The Journal of neuroscience : the official jou...</td>\n",
       "    </tr>\n",
       "    <tr>\n",
       "      <th>6</th>\n",
       "      <td>9065511</td>\n",
       "      <td>NaN</td>\n",
       "      <td>25.0</td>\n",
       "      <td>-35.0</td>\n",
       "      <td>-8.0</td>\n",
       "      <td>MNI</td>\n",
       "      <td>215933</td>\n",
       "      <td>11416</td>\n",
       "      <td>1.</td>\n",
       "      <td>Environmental knowledge is subserved by separa...</td>\n",
       "      <td>Aguirre GK, D'Esposito M</td>\n",
       "      <td>1997</td>\n",
       "      <td>The Journal of neuroscience : the official jou...</td>\n",
       "    </tr>\n",
       "    <tr>\n",
       "      <th>7</th>\n",
       "      <td>9065511</td>\n",
       "      <td>NaN</td>\n",
       "      <td>-25.0</td>\n",
       "      <td>-45.0</td>\n",
       "      <td>-2.0</td>\n",
       "      <td>MNI</td>\n",
       "      <td>215934</td>\n",
       "      <td>11416</td>\n",
       "      <td>1.</td>\n",
       "      <td>Environmental knowledge is subserved by separa...</td>\n",
       "      <td>Aguirre GK, D'Esposito M</td>\n",
       "      <td>1997</td>\n",
       "      <td>The Journal of neuroscience : the official jou...</td>\n",
       "    </tr>\n",
       "    <tr>\n",
       "      <th>8</th>\n",
       "      <td>9065511</td>\n",
       "      <td>NaN</td>\n",
       "      <td>52.0</td>\n",
       "      <td>-62.0</td>\n",
       "      <td>14.0</td>\n",
       "      <td>MNI</td>\n",
       "      <td>215935</td>\n",
       "      <td>11416</td>\n",
       "      <td>1.</td>\n",
       "      <td>Environmental knowledge is subserved by separa...</td>\n",
       "      <td>Aguirre GK, D'Esposito M</td>\n",
       "      <td>1997</td>\n",
       "      <td>The Journal of neuroscience : the official jou...</td>\n",
       "    </tr>\n",
       "    <tr>\n",
       "      <th>9</th>\n",
       "      <td>9065511</td>\n",
       "      <td>NaN</td>\n",
       "      <td>21.0</td>\n",
       "      <td>-81.0</td>\n",
       "      <td>28.0</td>\n",
       "      <td>MNI</td>\n",
       "      <td>215936</td>\n",
       "      <td>11416</td>\n",
       "      <td>1.</td>\n",
       "      <td>Environmental knowledge is subserved by separa...</td>\n",
       "      <td>Aguirre GK, D'Esposito M</td>\n",
       "      <td>1997</td>\n",
       "      <td>The Journal of neuroscience : the official jou...</td>\n",
       "    </tr>\n",
       "  </tbody>\n",
       "</table>\n",
       "</div>"
      ],
      "text/plain": [
       "        id  doi     x     y     z space  peak_id  table_id table_num  \\\n",
       "0  9065511  NaN  38.0 -48.0  49.0   MNI   215927     11416        1.   \n",
       "1  9065511  NaN  -4.0 -70.0  50.0   MNI   215928     11416        1.   \n",
       "2  9065511  NaN -34.0 -52.0  60.0   MNI   215929     11416        1.   \n",
       "3  9065511  NaN -23.0  15.0  67.0   MNI   215930     11416        1.   \n",
       "4  9065511  NaN -23.0 -20.0  68.0   MNI   215931     11416        1.   \n",
       "5  9065511  NaN  42.0 -47.0 -19.0   MNI   215932     11416        1.   \n",
       "6  9065511  NaN  25.0 -35.0  -8.0   MNI   215933     11416        1.   \n",
       "7  9065511  NaN -25.0 -45.0  -2.0   MNI   215934     11416        1.   \n",
       "8  9065511  NaN  52.0 -62.0  14.0   MNI   215935     11416        1.   \n",
       "9  9065511  NaN  21.0 -81.0  28.0   MNI   215936     11416        1.   \n",
       "\n",
       "                                               title  \\\n",
       "0  Environmental knowledge is subserved by separa...   \n",
       "1  Environmental knowledge is subserved by separa...   \n",
       "2  Environmental knowledge is subserved by separa...   \n",
       "3  Environmental knowledge is subserved by separa...   \n",
       "4  Environmental knowledge is subserved by separa...   \n",
       "5  Environmental knowledge is subserved by separa...   \n",
       "6  Environmental knowledge is subserved by separa...   \n",
       "7  Environmental knowledge is subserved by separa...   \n",
       "8  Environmental knowledge is subserved by separa...   \n",
       "9  Environmental knowledge is subserved by separa...   \n",
       "\n",
       "                    authors  year  \\\n",
       "0  Aguirre GK, D'Esposito M  1997   \n",
       "1  Aguirre GK, D'Esposito M  1997   \n",
       "2  Aguirre GK, D'Esposito M  1997   \n",
       "3  Aguirre GK, D'Esposito M  1997   \n",
       "4  Aguirre GK, D'Esposito M  1997   \n",
       "5  Aguirre GK, D'Esposito M  1997   \n",
       "6  Aguirre GK, D'Esposito M  1997   \n",
       "7  Aguirre GK, D'Esposito M  1997   \n",
       "8  Aguirre GK, D'Esposito M  1997   \n",
       "9  Aguirre GK, D'Esposito M  1997   \n",
       "\n",
       "                                             journal  \n",
       "0  The Journal of neuroscience : the official jou...  \n",
       "1  The Journal of neuroscience : the official jou...  \n",
       "2  The Journal of neuroscience : the official jou...  \n",
       "3  The Journal of neuroscience : the official jou...  \n",
       "4  The Journal of neuroscience : the official jou...  \n",
       "5  The Journal of neuroscience : the official jou...  \n",
       "6  The Journal of neuroscience : the official jou...  \n",
       "7  The Journal of neuroscience : the official jou...  \n",
       "8  The Journal of neuroscience : the official jou...  \n",
       "9  The Journal of neuroscience : the official jou...  "
      ]
     },
     "execution_count": 36,
     "metadata": {},
     "output_type": "execute_result"
    }
   ],
   "source": [
    "dat[dat['id']==9065511]"
   ]
  },
  {
   "cell_type": "markdown",
   "metadata": {},
   "source": [
    "To Do:\n",
    "\n",
    "* Find which keywords have the most/least amount of bilaterality\n",
    "* Find which brain regions wire together most frequently"
   ]
  }
 ],
 "metadata": {
  "kernelspec": {
   "display_name": "Python 3",
   "language": "python",
   "name": "python3"
  },
  "language_info": {
   "codemirror_mode": {
    "name": "ipython",
    "version": 3
   },
   "file_extension": ".py",
   "mimetype": "text/x-python",
   "name": "python",
   "nbconvert_exporter": "python",
   "pygments_lexer": "ipython3",
   "version": "3.5.1"
  }
 },
 "nbformat": 4,
 "nbformat_minor": 0
}
